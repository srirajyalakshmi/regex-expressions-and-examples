{
 "cells": [
  {
   "cell_type": "code",
   "execution_count": 1,
   "id": "3e8de95d",
   "metadata": {},
   "outputs": [],
   "source": [
    "## in order to use regular expressions first we need to import re"
   ]
  },
  {
   "cell_type": "code",
   "execution_count": 2,
   "id": "359d587f",
   "metadata": {},
   "outputs": [],
   "source": [
    "import re"
   ]
  },
  {
   "cell_type": "markdown",
   "id": "7cc9d95a",
   "metadata": {},
   "source": [
    "### regular expressions help us build or create complex patterns and there by used for pattern matching with strings"
   ]
  },
  {
   "cell_type": "markdown",
   "id": "68687d47",
   "metadata": {},
   "source": [
    "### The uses of regular expressions are:\n",
    "\n",
    "    1.To extract a specific portion from text\n",
    "    2.Replace portion of text\n",
    "    3.To check for a given pattern in a text"
   ]
  },
  {
   "cell_type": "markdown",
   "id": "dda0fba8",
   "metadata": {},
   "source": [
    "Regular expressions contain normal characters and meta characters"
   ]
  },
  {
   "cell_type": "markdown",
   "id": "f3a91402",
   "metadata": {},
   "source": [
    "In order to compile regular expressions we use re.compile"
   ]
  },
  {
   "cell_type": "code",
   "execution_count": 7,
   "id": "6c54b4ad",
   "metadata": {},
   "outputs": [],
   "source": [
    "pattern=re.compile(\"welcome\")"
   ]
  },
  {
   "cell_type": "code",
   "execution_count": 8,
   "id": "79eb1c39",
   "metadata": {},
   "outputs": [
    {
     "data": {
      "text/plain": [
       "re.compile(r'welcome', re.UNICODE)"
      ]
     },
     "execution_count": 8,
     "metadata": {},
     "output_type": "execute_result"
    }
   ],
   "source": [
    "pattern"
   ]
  },
  {
   "cell_type": "code",
   "execution_count": 9,
   "id": "5b55a8c7",
   "metadata": {},
   "outputs": [
    {
     "data": {
      "text/plain": [
       "re.Pattern"
      ]
     },
     "execution_count": 9,
     "metadata": {},
     "output_type": "execute_result"
    }
   ],
   "source": [
    "type(pattern)"
   ]
  },
  {
   "cell_type": "markdown",
   "id": "07872859",
   "metadata": {},
   "source": [
    " It is converted into a series of the byte code"
   ]
  },
  {
   "cell_type": "markdown",
   "id": "487dae0b",
   "metadata": {},
   "source": [
    "The most methods that are used in regex function are\n",
    "<br> match\n",
    "<br>search\n",
    "<br>findall\n",
    "<br>find"
   ]
  },
  {
   "cell_type": "markdown",
   "id": "59aacc8f",
   "metadata": {},
   "source": [
    "Examples of regex functions are:"
   ]
  },
  {
   "cell_type": "code",
   "execution_count": 13,
   "id": "6602218c",
   "metadata": {},
   "outputs": [
    {
     "data": {
      "text/plain": [
       "['pappu', 'pappu', 'pappu']"
      ]
     },
     "execution_count": 13,
     "metadata": {},
     "output_type": "execute_result"
    }
   ],
   "source": [
    "text=\"Hi my name is pappu so that is not pappu and but he told his name is pappu\"\n",
    "pattern=\"pappu\"\n",
    "match=re.findall(pattern,text)\n",
    "match"
   ]
  },
  {
   "cell_type": "code",
   "execution_count": 16,
   "id": "8f95173d",
   "metadata": {},
   "outputs": [
    {
     "data": {
      "text/plain": [
       "<re.Match object; span=(14, 19), match='pappu'>"
      ]
     },
     "execution_count": 16,
     "metadata": {},
     "output_type": "execute_result"
    }
   ],
   "source": [
    "match=re.search(pattern,text)\n",
    "match"
   ]
  },
  {
   "cell_type": "code",
   "execution_count": 20,
   "id": "8c988148",
   "metadata": {},
   "outputs": [],
   "source": [
    "result=re.match(pattern,text)\n",
    "result"
   ]
  },
  {
   "cell_type": "markdown",
   "id": "13607602",
   "metadata": {},
   "source": [
    "here if we observe then findall will return all the pattern matches where as search will return the first pattern of search\n",
    "and match is if pattern is there at the starting of the string"
   ]
  },
  {
   "cell_type": "code",
   "execution_count": null,
   "id": "805832ae",
   "metadata": {},
   "outputs": [],
   "source": []
  }
 ],
 "metadata": {
  "kernelspec": {
   "display_name": "Python 3 (ipykernel)",
   "language": "python",
   "name": "python3"
  },
  "language_info": {
   "codemirror_mode": {
    "name": "ipython",
    "version": 3
   },
   "file_extension": ".py",
   "mimetype": "text/x-python",
   "name": "python",
   "nbconvert_exporter": "python",
   "pygments_lexer": "ipython3",
   "version": "3.11.5"
  }
 },
 "nbformat": 4,
 "nbformat_minor": 5
}
