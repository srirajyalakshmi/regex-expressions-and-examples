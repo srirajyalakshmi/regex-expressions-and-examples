{
 "cells": [
  {
   "cell_type": "markdown",
   "id": "042fa1d4",
   "metadata": {},
   "source": [
    "# ##Regex examples"
   ]
  },
  {
   "cell_type": "code",
   "execution_count": 3,
   "id": "91a7f53a",
   "metadata": {},
   "outputs": [],
   "source": [
    "import re"
   ]
  },
  {
   "cell_type": "markdown",
   "id": "0d53a5fb",
   "metadata": {},
   "source": [
    "#### write a program to find the mobile number from a given string?"
   ]
  },
  {
   "cell_type": "code",
   "execution_count": 5,
   "id": "86c673a1",
   "metadata": {},
   "outputs": [],
   "source": [
    "text=\"My phone number is 9878945612 and this is really a mobile number but your previous no 6789412345 or 8527419634 and 876544333\""
   ]
  },
  {
   "cell_type": "code",
   "execution_count": 6,
   "id": "cd8997be",
   "metadata": {},
   "outputs": [
    {
     "name": "stdout",
     "output_type": "stream",
     "text": [
      "The mobiles numbers from text are \n",
      " ['9878945612', '6789412345', '8527419634']\n"
     ]
    }
   ],
   "source": [
    "pattern=\"[6789]\\d{9}\"\n",
    "result=re.findall(pattern,text)\n",
    "print(\"The mobiles numbers from text are \\n\",result)"
   ]
  },
  {
   "cell_type": "markdown",
   "id": "8d1b7957",
   "metadata": {},
   "source": [
    "#### Explanation:[6789] here in square brackets we are giving 6789 it means either 6 or 7 or 8 or 9 can be the beginning of the digit and \\d for digits and {9} is for repeating number 9 times since phone number length is 10."
   ]
  },
  {
   "cell_type": "markdown",
   "id": "7c52a657",
   "metadata": {},
   "source": [
    "#### write a program to find the email id from a given string"
   ]
  },
  {
   "cell_type": "code",
   "execution_count": 7,
   "id": "bec09256",
   "metadata": {},
   "outputs": [],
   "source": [
    "text=\"the email id for contact is abcd@gmail.com and bhg@yahoo.co.in.It is abc@co.in and ghyj@ \""
   ]
  },
  {
   "cell_type": "code",
   "execution_count": 11,
   "id": "8e93f769",
   "metadata": {},
   "outputs": [
    {
     "name": "stdout",
     "output_type": "stream",
     "text": [
      "['abcd@gmail.com', 'bhg@yahoo.co.in', 'abc@co.in']\n"
     ]
    }
   ],
   "source": [
    "pattern=\"\\S+@\\S+\"\n",
    "result=re.findall(pattern,text)\n",
    "print(result)"
   ]
  },
  {
   "cell_type": "markdown",
   "id": "fb7679ce",
   "metadata": {},
   "source": [
    "#### Explanation:As you can see \\S for no space and + means 1 or more no spaces followed by @ and again |S+ hence we get the email ids with domain names. "
   ]
  },
  {
   "cell_type": "markdown",
   "id": "c64e2deb",
   "metadata": {},
   "source": [
    "Write a Python program to check that a string contains URLs"
   ]
  },
  {
   "cell_type": "code",
   "execution_count": 4,
   "id": "3951d30d",
   "metadata": {},
   "outputs": [],
   "source": [
    "text=\"The url to study well is https://sta.com/questions and few other websites are https://abc.co.in , https://gkiq.com \""
   ]
  },
  {
   "cell_type": "code",
   "execution_count": 5,
   "id": "935bb45c",
   "metadata": {},
   "outputs": [],
   "source": [
    "pattern=\"https:\\/\\/\\S+\""
   ]
  },
  {
   "cell_type": "code",
   "execution_count": 6,
   "id": "40823a8b",
   "metadata": {},
   "outputs": [
    {
     "name": "stdout",
     "output_type": "stream",
     "text": [
      "['https://sta.com/questions', 'https://abc.co.in', 'https://gkiq.com']\n"
     ]
    }
   ],
   "source": [
    "result=re.findall(pattern,text)\n",
    "print(result)"
   ]
  },
  {
   "cell_type": "markdown",
   "id": "7b8318fc",
   "metadata": {},
   "source": [
    "Write a Python program to remove leading zeros from an IP address"
   ]
  },
  {
   "cell_type": "code",
   "execution_count": 26,
   "id": "17d12de8",
   "metadata": {},
   "outputs": [
    {
     "data": {
      "text/plain": [
       "' 216.8.94.196'"
      ]
     },
     "execution_count": 26,
     "metadata": {},
     "output_type": "execute_result"
    }
   ],
   "source": [
    "def leading_Zeros(text):\n",
    "    pattern=\"\\.[0]?\"\n",
    "    string = re.sub(pattern,\".\", text)\n",
    "    return string\n",
    "\n",
    "leading_Zeros(\" 216.08.094.196\")"
   ]
  },
  {
   "cell_type": "markdown",
   "id": "efdceca5",
   "metadata": {},
   "source": [
    "Write a Python program to extract year, month and date from a an url."
   ]
  },
  {
   "cell_type": "code",
   "execution_count": 70,
   "id": "b64393d2",
   "metadata": {},
   "outputs": [
    {
     "data": {
      "text/plain": [
       "([('2021', '07', '29'), ('2021', '07', '28')],\n",
       " 'https://yourdomain.tryretool.com/presentation/UsersDashboard#EndDate=29-07-2021&StartDate=28-07-2021')"
      ]
     },
     "execution_count": 70,
     "metadata": {},
     "output_type": "execute_result"
    }
   ],
   "source": [
    "def extract_date_month_year(url):\n",
    "    pattern=\"(\\d{4})-(\\d{2})-(\\d{2})\"\n",
    "    result=re.findall(pattern,url)\n",
    "    changed=re.sub(pattern,'\\\\3-\\\\2-\\\\1',url)\n",
    "    return result, changed\n",
    "url1=\"https://yourdomain.tryretool.com/presentation/UsersDashboard#EndDate=2021-07-29&StartDate=2021-07-28\"\n",
    "extract_date_month_year(url1)"
   ]
  },
  {
   "cell_type": "code",
   "execution_count": 78,
   "id": "86261f0a",
   "metadata": {},
   "outputs": [],
   "source": [
    "dates,url=extract_date_month_year(url1)"
   ]
  },
  {
   "cell_type": "code",
   "execution_count": 79,
   "id": "ddcac018",
   "metadata": {},
   "outputs": [
    {
     "data": {
      "text/plain": [
       "[('2021', '07', '29'), ('2021', '07', '28')]"
      ]
     },
     "execution_count": 79,
     "metadata": {},
     "output_type": "execute_result"
    }
   ],
   "source": [
    "dates"
   ]
  },
  {
   "cell_type": "markdown",
   "id": "c8292d5c",
   "metadata": {},
   "source": [
    "Write a Python program to separate and print the numbers and their position of a given string"
   ]
  },
  {
   "cell_type": "code",
   "execution_count": 80,
   "id": "69a09040",
   "metadata": {},
   "outputs": [],
   "source": [
    "text=\"here as we know 20 means twenty and 30 means thirty and 40 means fourty\""
   ]
  },
  {
   "cell_type": "code",
   "execution_count": 96,
   "id": "4b78a59d",
   "metadata": {},
   "outputs": [],
   "source": [
    "def position_of_string():\n",
    "    pattern=\"\\d+\"\n",
    "    for i in re.finditer(pattern,text):\n",
    "        print(\"digits are\",i.group())\n",
    "        print(\"position is\",i.start())\n",
    "        "
   ]
  },
  {
   "cell_type": "code",
   "execution_count": 97,
   "id": "efedc143",
   "metadata": {},
   "outputs": [
    {
     "name": "stdout",
     "output_type": "stream",
     "text": [
      "digits are 20\n",
      "position is 16\n",
      "digits are 30\n",
      "position is 36\n",
      "digits are 40\n",
      "position is 56\n"
     ]
    }
   ],
   "source": [
    "position_of_string()"
   ]
  },
  {
   "cell_type": "code",
   "execution_count": null,
   "id": "8536ab25",
   "metadata": {},
   "outputs": [],
   "source": []
  }
 ],
 "metadata": {
  "kernelspec": {
   "display_name": "Python 3 (ipykernel)",
   "language": "python",
   "name": "python3"
  },
  "language_info": {
   "codemirror_mode": {
    "name": "ipython",
    "version": 3
   },
   "file_extension": ".py",
   "mimetype": "text/x-python",
   "name": "python",
   "nbconvert_exporter": "python",
   "pygments_lexer": "ipython3",
   "version": "3.11.5"
  }
 },
 "nbformat": 4,
 "nbformat_minor": 5
}
